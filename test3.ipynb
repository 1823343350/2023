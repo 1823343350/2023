{
 "cells": [
  {
   "cell_type": "code",
   "execution_count": 1,
   "metadata": {},
   "outputs": [],
   "source": [
    "from typing import Any\n",
    "import numpy as np\n",
    "import torch\n",
    "from DL import plot_graph\n",
    "from Deep_cpu import MyModel\n",
    "from Deep_cpu.activation import ReLU\n",
    "from Deep_cpu.activation.loss import MeanSquaredError, CrossEntropyLoss\n",
    "from Deep_cpu.optimizer.gdo import GradientDescentOptimizer\n",
    "\n",
    "import torchvision\n",
    "import torchvision.transforms as transforms\n",
    "import matplotlib.pyplot as plt\n",
    "\n",
    "photo_nums = 64\n",
    "\n",
    "transform = transforms.Compose([transforms.ToTensor(), transforms.Normalize((0.5,), (0.5,))])\n",
    "train_dataset = torchvision.datasets.MNIST(root='./data', train=True, transform=transform, download=True)\n",
    "train_loader = torch.utils.data.DataLoader(train_dataset, batch_size=photo_nums, shuffle=True)\n",
    "\n",
    "loss_fn = CrossEntropyLoss()\n",
    "op = GradientDescentOptimizer(lr=0.001, max_iterations=1)\n",
    "\n",
    "layer_dict = {\n",
    "    'first': {\n",
    "        'type': 'linear',\n",
    "        'in_features': 784,\n",
    "        'out_features': 128,\n",
    "        'activation': \"ReLU\"\n",
    "    },\n",
    "    'output': {\n",
    "        'type': 'linear',\n",
    "        'in_features': 128,\n",
    "        'out_features': 10,\n",
    "        'activation': \"Softmax\",\n",
    "        'loss_fn': loss_fn\n",
    "    }\n",
    "}\n",
    "\n",
    "model = MyModel(layers_dict=layer_dict, optimizer = op)\n",
    "loss1 = []\n",
    "# 数据预处理--One-Hot Encoding\n",
    "k = 1\n",
    "pre_x = []\n",
    "pre_y = []"
   ]
  },
  {
   "cell_type": "code",
   "execution_count": 2,
   "metadata": {},
   "outputs": [],
   "source": [
    "# m = 0\n",
    "# a = []\n",
    "# for batch in train_loader:\n",
    "#     inputs, labels = batch\n",
    "#     a.append(inputs[0][0])\n",
    "#     m += 1\n",
    "#     if m >= 6:\n",
    "#         break\n",
    "\n",
    "# plt.tight_layout()\n",
    "# fig = plt.figure()\n",
    "# plt.tight_layout()\n",
    "# plt.imshow(a[0], cmap='gray', interpolation='none')\n",
    "# plt.show()"
   ]
  },
  {
   "cell_type": "code",
   "execution_count": 23,
   "metadata": {},
   "outputs": [
    {
     "name": "stdout",
     "output_type": "stream",
     "text": [
      "[0 9 3 8 0 9 6 2 2 6 8 7 7 0 8 1 7 7 4 2 2 1 8 2 0 3 0 2 7 1 3 0 8 8 1 7 5\n",
      " 7 8 0 4 7 7 0 3 5 4 3 5 6 1 7 9 6 1 2 9 8 0 6 6 5 5 8]\n",
      "Epoch 1, Loss: 3.729339641068198\n"
     ]
    }
   ],
   "source": [
    "epoch = 1\n",
    "for j in range(epoch):\n",
    "    running_loss = 0\n",
    "    k=0\n",
    "    for batch in train_loader:\n",
    "        inputs, labels = batch\n",
    "\n",
    "        x = inputs.numpy()\n",
    "        y = labels.numpy()\n",
    "        x = x.reshape(photo_nums, -1)\n",
    "\n",
    "        y_one_hot = np.zeros((len(y), 10))\n",
    "        for i in range(len(y)):\n",
    "            y_one_hot[i, y[i]] = 1\n",
    "\n",
    "        if j != 0:\n",
    "            pre_x.append(x)\n",
    "            pre_y.append(y)\n",
    "\n",
    "        if x.shape[1] == 784:\n",
    "            model.fit(x, y_one_hot)\n",
    "            loss1.append(model.loss[-1])\n",
    "            \n",
    "        print(y)\n",
    "        k += 1\n",
    "        if k >= 1:\n",
    "            break\n",
    "    running_loss = model.loss[-1]\n",
    "    print(f\"Epoch {j + 1}, Loss: {running_loss}\")"
   ]
  },
  {
   "cell_type": "code",
   "execution_count": 37,
   "metadata": {},
   "outputs": [
    {
     "data": {
      "text/plain": [
       "1.0"
      ]
     },
     "execution_count": 37,
     "metadata": {},
     "output_type": "execute_result"
    }
   ],
   "source": [
    "result = model.predict(pre_x[0])\n",
    "max_values = np.max(result, axis=0)\n",
    "max_indices = np.argmax(result, axis=0)\n",
    "k = max_indices\n",
    "# for row, (max_value, max_index) in enumerate(zip(max_values, max_indices)):\n",
    "#     print(f\"Row {row}: Max Value = {max_value}, Index = {max_index}\")\n",
    "acc = np.sum(max_indices == k) / result.shape[1]\n",
    "acc"
   ]
  },
  {
   "cell_type": "code",
   "execution_count": 5,
   "metadata": {},
   "outputs": [
    {
     "data": {
      "text/plain": [
       "array([6, 9, 5, 1, 9, 7, 2, 8, 2, 2, 4, 5, 8, 6, 1, 1, 4, 4, 3, 8, 4, 3,\n",
       "       4, 3, 3, 3, 9, 0, 2, 4, 8, 9, 0, 9, 9, 5, 1, 8, 6, 2, 6, 9, 9, 3,\n",
       "       3, 6, 8, 1, 6, 3, 4, 0, 2, 6, 0, 7, 3, 8, 3, 4, 1, 0, 5, 4],\n",
       "      dtype=int64)"
      ]
     },
     "execution_count": 5,
     "metadata": {},
     "output_type": "execute_result"
    }
   ],
   "source": [
    "pre_y[0]"
   ]
  },
  {
   "cell_type": "code",
   "execution_count": 6,
   "metadata": {},
   "outputs": [
    {
     "data": {
      "text/plain": [
       "array([0.01605147, 0.01525115, 0.03981593, 0.00734688, 0.04530347,\n",
       "       0.02809674, 0.80504431, 0.00352597, 0.0169963 , 0.02256779])"
      ]
     },
     "execution_count": 6,
     "metadata": {},
     "output_type": "execute_result"
    }
   ],
   "source": [
    "result[::, 0]"
   ]
  },
  {
   "cell_type": "code",
   "execution_count": 7,
   "metadata": {},
   "outputs": [
    {
     "data": {
      "text/plain": [
       "array([[-0.11963784,  0.13610757,  0.02834925, ..., -0.07486002,\n",
       "         0.18674346, -0.05949084],\n",
       "       [-0.13707174,  0.13146469,  0.08422079, ...,  0.0556787 ,\n",
       "        -0.11068311, -0.12555192],\n",
       "       [ 0.08469717,  0.15547538,  0.17705488, ...,  0.0619268 ,\n",
       "        -0.03965244,  0.10470472],\n",
       "       ...,\n",
       "       [ 0.09388816,  0.09626347,  0.03253431, ..., -0.18661029,\n",
       "        -0.173889  ,  0.08246552],\n",
       "       [ 0.09561025, -0.00129998, -0.17732991, ...,  0.11671903,\n",
       "         0.23725235,  0.02322078],\n",
       "       [ 0.06609013, -0.17575459, -0.18289767, ...,  0.04834118,\n",
       "         0.04374584,  0.12030545]])"
      ]
     },
     "execution_count": 7,
     "metadata": {},
     "output_type": "execute_result"
    }
   ],
   "source": [
    "model.layers[-1].weight"
   ]
  },
  {
   "cell_type": "code",
   "execution_count": 8,
   "metadata": {},
   "outputs": [
    {
     "data": {
      "text/plain": [
       "array([[0.99856744, 0.99432405, 1.00630099, 1.00488167, 0.99962765,\n",
       "        1.00185449, 0.99968328, 0.99827754, 1.00052393, 0.99595897]])"
      ]
     },
     "execution_count": 8,
     "metadata": {},
     "output_type": "execute_result"
    }
   ],
   "source": [
    "model.layers[-1].bias"
   ]
  }
 ],
 "metadata": {
  "kernelspec": {
   "display_name": "learn",
   "language": "python",
   "name": "python3"
  },
  "language_info": {
   "codemirror_mode": {
    "name": "ipython",
    "version": 3
   },
   "file_extension": ".py",
   "mimetype": "text/x-python",
   "name": "python",
   "nbconvert_exporter": "python",
   "pygments_lexer": "ipython3",
   "version": "3.6.13"
  }
 },
 "nbformat": 4,
 "nbformat_minor": 2
}
