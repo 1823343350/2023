{
 "cells": [
  {
   "cell_type": "code",
   "execution_count": 25,
   "metadata": {},
   "outputs": [],
   "source": [
    "import sys\n",
    "sys.path.append('../..') \n",
    "from typing import Any\n",
    "import numpy as np\n",
    "from DL import plot_graph\n",
    "from Deep import MyModel\n",
    "from Deep.activation import ReLU\n",
    "from Deep.activation.loss import MeanSquaredError, CrossEntropyLoss\n",
    "from Deep.optimizer.gdo import GradientDescentOptimizer\n",
    "\n",
    "import matplotlib.pyplot as plt"
   ]
  },
  {
   "cell_type": "code",
   "execution_count": 26,
   "metadata": {},
   "outputs": [],
   "source": [
    "# 一元三次函数拟合\n",
    "loss_fn = MeanSquaredError()\n",
    "layer_dict = {\n",
    "    'output': {\n",
    "        'type': 'linear',\n",
    "        'in_features': 3,\n",
    "        'out_features': 1,\n",
    "        'loss_fn': loss_fn\n",
    "    }\n",
    "}\n",
    "\n",
    "op = GradientDescentOptimizer(lr=0.1, max_iterations=500)\n",
    "model = MyModel(layers_dict=layer_dict, optimizer = op)"
   ]
  },
  {
   "cell_type": "code",
   "execution_count": 27,
   "metadata": {},
   "outputs": [
    {
     "data": {
      "text/plain": [
       "((1000, 1), (1000, 3))"
      ]
     },
     "execution_count": 27,
     "metadata": {},
     "output_type": "execute_result"
    }
   ],
   "source": [
    "x = np.random.uniform(low=-1000, high=1000, size=(1000, 3))\n",
    "x = (x - x.mean())/x.max()\n",
    "y = 12.6*x[:, 0]-3.3*x[:, 1]+9.3*x[:, 2]+0.6\n",
    "y = np.array([y]).T\n",
    "y.shape, x.shape"
   ]
  },
  {
   "cell_type": "code",
   "execution_count": 28,
   "metadata": {},
   "outputs": [
    {
     "data": {
      "text/plain": [
       "9.913409199848275e-06"
      ]
     },
     "execution_count": 28,
     "metadata": {},
     "output_type": "execute_result"
    }
   ],
   "source": [
    "model.fit(x, y)\n",
    "model.loss[-1]"
   ]
  },
  {
   "cell_type": "code",
   "execution_count": 29,
   "metadata": {},
   "outputs": [
    {
     "data": {
      "text/plain": [
       "(array([[12.59435082, -3.30066493,  9.29487598]]), array([[0.59983734]]))"
      ]
     },
     "execution_count": 29,
     "metadata": {},
     "output_type": "execute_result"
    }
   ],
   "source": [
    "model.layers[-1].weight, model.layers[-1].bias"
   ]
  },
  {
   "cell_type": "code",
   "execution_count": 30,
   "metadata": {},
   "outputs": [
    {
     "data": {
      "image/png": "[encoded data removed]",
      "text/plain": [
       "<Figure size 432x288 with 1 Axes>"
      ]
     },
     "metadata": {
      "needs_background": "light"
     },
     "output_type": "display_data"
    }
   ],
   "source": [
    "model.loss = np.array([model.loss])\n",
    "plot_graph(model.loss, graph_show=True)"
   ]
  },
  {
   "cell_type": "code",
   "execution_count": 31,
   "metadata": {},
   "outputs": [
    {
     "data": {
      "text/plain": [
       "((1, 1000), (1, 1000))"
      ]
     },
     "execution_count": 31,
     "metadata": {},
     "output_type": "execute_result"
    }
   ],
   "source": [
    "test_x = np.random.uniform(low=-1000, high=1000, size=(1000, 3))\n",
    "y = 12.6*test_x[:, 0]-3.3*test_x[:, 1]+9.3*test_x[:, 2]+0.6\n",
    "y = np.array([y])\n",
    "y_pre = model.predict(test_x)\n",
    "y.shape, y_pre.shape"
   ]
  },
  {
   "cell_type": "code",
   "execution_count": 32,
   "metadata": {},
   "outputs": [
    {
     "data": {
      "text/plain": [
       "9.563035243880243"
      ]
     },
     "execution_count": 32,
     "metadata": {},
     "output_type": "execute_result"
    }
   ],
   "source": [
    "loss, a = loss_fn(y, y_pre)\n",
    "loss"
   ]
  }
 ],
 "metadata": {
  "kernelspec": {
   "display_name": "learn",
   "language": "python",
   "name": "python3"
  },
  "language_info": {
   "codemirror_mode": {
    "name": "ipython",
    "version": 3
   },
   "file_extension": ".py",
   "mimetype": "text/x-python",
   "name": "python",
   "nbconvert_exporter": "python",
   "pygments_lexer": "ipython3",
   "version": "3.6.13"
  }
 },
 "nbformat": 4,
 "nbformat_minor": 2
}
