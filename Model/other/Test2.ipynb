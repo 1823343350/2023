{
 "cells": [
  {
   "cell_type": "code",
   "execution_count": 22,
   "metadata": {},
   "outputs": [],
   "source": [
    "import sys\n",
    "sys.path.append('../..') \n",
    "from typing import Any\n",
    "import numpy as np\n",
    "from DL import plot_graph\n",
    "from Deep_gpu import MyModel\n",
    "from Deep_gpu.activation import ReLU\n",
    "from Deep_gpu.activation.loss import MeanSquaredError, CrossEntropyLoss\n",
    "from Deep_gpu.optimizer.gdo import GradientDescentOptimizer\n",
    "\n",
    "import matplotlib.pyplot as plt"
   ]
  },
  {
   "cell_type": "code",
   "execution_count": 23,
   "metadata": {},
   "outputs": [],
   "source": [
    "# 多元多次函数拟合\n",
    "loss_fn = MeanSquaredError()\n",
    "layer_dict = {\n",
    "    'first': {\n",
    "        'type': 'linear',\n",
    "        'in_features': 1,\n",
    "        'out_features': 10,\n",
    "        'activation': 'ReLU'\n",
    "    },\n",
    "    'output': {\n",
    "        'type': 'linear',\n",
    "        'in_features': 10,\n",
    "        'out_features': 1,\n",
    "        'loss_fn': loss_fn\n",
    "    }\n",
    "}\n",
    "\n",
    "op = GradientDescentOptimizer(lr=0.003, max_iterations=10000)\n",
    "model = MyModel(layers_dict=layer_dict, optimizer = op)"
   ]
  },
  {
   "cell_type": "code",
   "execution_count": 24,
   "metadata": {},
   "outputs": [],
   "source": [
    "x = np.random.uniform(low=-10, high=10, size=(1, 100))\n",
    "y = np.power(x, 2)"
   ]
  },
  {
   "cell_type": "code",
   "execution_count": 25,
   "metadata": {},
   "outputs": [
    {
     "data": {
      "text/plain": [
       "0.9609840707577478"
      ]
     },
     "execution_count": 25,
     "metadata": {},
     "output_type": "execute_result"
    }
   ],
   "source": [
    "model.fit(x.T, y.T)\n",
    "model.loss[-1]"
   ]
  },
  {
   "cell_type": "code",
   "execution_count": 26,
   "metadata": {},
   "outputs": [
    {
     "data": {
      "image/png": "[encoded data removed]",
      "text/plain": [
       "<Figure size 432x288 with 1 Axes>"
      ]
     },
     "metadata": {
      "needs_background": "light"
     },
     "output_type": "display_data"
    }
   ],
   "source": [
    "model.loss = np.array([model.loss])\n",
    "plot_graph(model.loss, graph_show=True)"
   ]
  },
  {
   "cell_type": "code",
   "execution_count": 27,
   "metadata": {},
   "outputs": [
    {
     "data": {
      "text/plain": [
       "(array([[  1,   4,   9,  16,  25,  49,  64,  81, 100, 121]], dtype=int32),\n",
       " array([[  1.26279045,   4.26324509,   7.92122303,  15.45876238,\n",
       "          25.11518553,  47.58760361,  63.00770621,  78.42780881,\n",
       "          93.84791141, 109.26801401]]))"
      ]
     },
     "execution_count": 27,
     "metadata": {},
     "output_type": "execute_result"
    }
   ],
   "source": [
    "test_x = np.array([\n",
    "    [1,2,3,4,5,7,8,9,10,11]\n",
    "])\n",
    "y2 = test_x**2\n",
    "y_pre = model.predict(test_x.T)\n",
    "y2, y_pre"
   ]
  },
  {
   "cell_type": "code",
   "execution_count": 28,
   "metadata": {},
   "outputs": [
    {
     "data": {
      "text/plain": [
       "9.334584482488918"
      ]
     },
     "execution_count": 28,
     "metadata": {},
     "output_type": "execute_result"
    }
   ],
   "source": [
    "loss, a = loss_fn(y2, y_pre)\n",
    "loss"
   ]
  }
 ],
 "metadata": {
  "kernelspec": {
   "display_name": "learn",
   "language": "python",
   "name": "python3"
  },
  "language_info": {
   "codemirror_mode": {
    "name": "ipython",
    "version": 3
   },
   "file_extension": ".py",
   "mimetype": "text/x-python",
   "name": "python",
   "nbconvert_exporter": "python",
   "pygments_lexer": "ipython3",
   "version": "3.6.13"
  }
 },
 "nbformat": 4,
 "nbformat_minor": 2
}
