{
 "cells": [
  {
   "cell_type": "code",
   "execution_count": 1,
   "metadata": {},
   "outputs": [],
   "source": [
    "import sys\n",
    "sys.path.append('../..') \n",
    "from typing import Any\n",
    "import numpy as np\n",
    "import torch\n",
    "\n",
    "from Deep import MyModel\n",
    "from Deep.activation import ReLU\n",
    "from Deep.activation.loss import MeanSquaredError, CrossEntropyLoss\n",
    "from Deep.optimizer.gdo import GradientDescentOptimizer\n",
    "import torchvision\n",
    "\n",
    "import torchvision.transforms as transforms\n",
    "from torchvision import datasets, transforms\n",
    "\n",
    "import matplotlib.pyplot as plt"
   ]
  },
  {
   "cell_type": "code",
   "execution_count": 2,
   "metadata": {},
   "outputs": [],
   "source": [
    "\"\"\"\n",
    "多层感知机进行MINIST手写数据集的识别\n",
    "\"\"\"\n",
    "photo_nums = 64\n",
    "\n",
    "transform = transforms.Compose([transforms.ToTensor()])\n",
    "\n",
    "# 获取MNIST数据集\n",
    "# windows\n",
    "# train_dataset = datasets.MNIST(root='G:\\学习文件\\python学习\\CODE\\data', train=True, transform=transform, download=True)\n",
    "# test_dataset = datasets.MNIST(root='G:\\学习文件\\python学习\\CODE\\data', train=False, transform=transform, download=True)\n",
    "# linux\n",
    "train_dataset = datasets.MNIST(root='/media/xc/学习/学习文件/python学习/CODE/data', train=True, transform=transform, download=True)\n",
    "test_dataset = datasets.MNIST(root='/media/xc/学习/学习文件/python学习/CODE/data', train=False, transform=transform, download=True)\n",
    "\n",
    "# 定义数据加载器\n",
    "train_loader = torch.utils.data.DataLoader(dataset=train_dataset, batch_size=photo_nums, shuffle=True)\n",
    "test_loader = torch.utils.data.DataLoader(dataset=test_dataset, batch_size=photo_nums, shuffle=False)\n"
   ]
  },
  {
   "cell_type": "code",
   "execution_count": 3,
   "metadata": {},
   "outputs": [],
   "source": [
    "loss_fn = CrossEntropyLoss()\n",
    "layer_dict = {\n",
    "    'first': {\n",
    "        'type': 'linear',\n",
    "        'in_features': 784,\n",
    "        'out_features': 128,\n",
    "        'activation': \"ReLU\"\n",
    "    },\n",
    "    'output': {\n",
    "        'type': 'linear',\n",
    "        'in_features': 128,\n",
    "        'out_features': 10,\n",
    "        'activation': \"Softmax\",\n",
    "        'loss_fn': loss_fn\n",
    "    }\n",
    "}\n",
    "\n",
    "op = GradientDescentOptimizer(lr=0.001, max_iterations=1)\n",
    "model = MyModel(layers_dict=layer_dict, optimizer = op)"
   ]
  },
  {
   "cell_type": "code",
   "execution_count": 4,
   "metadata": {},
   "outputs": [
    {
     "data": {
      "text/plain": [
       "device(type='cuda')"
      ]
     },
     "execution_count": 4,
     "metadata": {},
     "output_type": "execute_result"
    }
   ],
   "source": [
    "# 检查GPU是否可用\n",
    "device = torch.device(\"cuda\" if torch.cuda.is_available() else \"npu\")\n",
    "device"
   ]
  },
  {
   "cell_type": "code",
   "execution_count": 8,
   "metadata": {},
   "outputs": [
    {
     "name": "stdout",
     "output_type": "stream",
     "text": [
      "32000 photos, Epoch 1, Loss: 11.02604855800234\n",
      "32000 photos, Epoch 2, Loss: 9.057483897798614\n",
      "32000 photos, Epoch 3, Loss: 7.852928564279591\n",
      "32000 photos, Epoch 4, Loss: 7.966068207295817\n",
      "32000 photos, Epoch 5, Loss: 6.373314805551354\n",
      "32000 photos, Epoch 6, Loss: 6.954159414352442\n",
      "32000 photos, Epoch 7, Loss: 6.567632170514841\n",
      "32000 photos, Epoch 8, Loss: 5.567408734736488\n",
      "32000 photos, Epoch 9, Loss: 5.755600484518299\n",
      "32000 photos, Epoch 10, Loss: 5.223381690628239\n",
      "32000 photos, Epoch 11, Loss: 4.745601724214742\n",
      "32000 photos, Epoch 12, Loss: 5.473827613939632\n",
      "32000 photos, Epoch 13, Loss: 4.861826615018624\n",
      "32000 photos, Epoch 14, Loss: 4.46836808266454\n",
      "32000 photos, Epoch 15, Loss: 6.155879156280291\n",
      "32000 photos, Epoch 16, Loss: 4.651920363950977\n",
      "32000 photos, Epoch 17, Loss: 4.881135199640957\n",
      "32000 photos, Epoch 18, Loss: 4.673845670106526\n",
      "32000 photos, Epoch 19, Loss: 4.884347852641689\n",
      "32000 photos, Epoch 20, Loss: 4.955103771458002\n"
     ]
    }
   ],
   "source": [
    "epochs = 20\n",
    "for epoch in range(epochs):\n",
    "    k = 0\n",
    "    for batch in train_loader:\n",
    "        inputs, labels = batch\n",
    "\n",
    "        x = inputs.numpy()\n",
    "        y = labels.numpy()\n",
    "        x = x.reshape(photo_nums, -1)\n",
    "        x = np.asarray(x)\n",
    "        y_one_hot = np.zeros((len(y), 10))\n",
    "        for i in range(len(y)):\n",
    "            y_one_hot[i, y[i]] = 1\n",
    "\n",
    "        if x.shape[1] == 784:\n",
    "            model.fit(x, y_one_hot)\n",
    "\n",
    "        k += 1\n",
    "        if k >= 500:\n",
    "            break\n",
    "    running_loss = model.loss[-1]\n",
    "    print(f\"{64*500} photos, Epoch {epoch + 1}, Loss: {running_loss}\")"
   ]
  },
  {
   "cell_type": "code",
   "execution_count": 13,
   "metadata": {},
   "outputs": [
    {
     "name": "stdout",
     "output_type": "stream",
     "text": [
      "test_acc: 0.8727964743589743, test_loss: 4.955103771457999\n"
     ]
    }
   ],
   "source": [
    "acc = 0.0\n",
    "current = 0.0\n",
    "loss = 0.0\n",
    "n = 0\n",
    "for batch in test_loader:\n",
    "    inputs, labels = batch\n",
    "\n",
    "    x = inputs.numpy()\n",
    "    y = labels.numpy()\n",
    "    x = np.asarray(x)\n",
    "    y = np.asarray(y)\n",
    "    x = x.reshape(photo_nums, -1)\n",
    "\n",
    "    if x.shape[1] == 784:\n",
    "        predict = model.predict(x)\n",
    "        loss += model.loss[-1]\n",
    "        n += 1\n",
    "        max_indices = predict.argmax(axis=0)  # 沿着列的方向找到最大值的索引, 代表模型预测的分类\n",
    "        acc = np.sum(max_indices == y) / predict.shape[1]\n",
    "        current += acc\n",
    "\n",
    "print(f\"test_acc: {current/n}, test_loss: {loss/n}\")"
   ]
  }
 ],
 "metadata": {
  "kernelspec": {
   "display_name": "learn",
   "language": "python",
   "name": "python3"
  },
  "language_info": {
   "codemirror_mode": {
    "name": "ipython",
    "version": 3
   },
   "file_extension": ".py",
   "mimetype": "text/x-python",
   "name": "python",
   "nbconvert_exporter": "python",
   "pygments_lexer": "ipython3",
   "version": "3.6.13"
  }
 },
 "nbformat": 4,
 "nbformat_minor": 2
}
